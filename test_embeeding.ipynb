{
 "cells": [
  {
   "cell_type": "code",
   "id": "initial_id",
   "metadata": {
    "collapsed": true,
    "ExecuteTime": {
     "end_time": "2025-07-11T05:21:06.072030Z",
     "start_time": "2025-07-11T05:21:06.069839Z"
    }
   },
   "source": [
    "import numpy as np\n",
    "import pandas as pd\n",
    "from torch.utils.data.datapipes.dataframe.dataframe_wrapper import get_item"
   ],
   "outputs": [],
   "execution_count": 216
  },
  {
   "metadata": {
    "ExecuteTime": {
     "end_time": "2025-07-11T05:21:06.421567Z",
     "start_time": "2025-07-11T05:21:06.412421Z"
    }
   },
   "cell_type": "code",
   "source": "data_all = pd.read_csv(\"/Users/holee/Desktop/test.csv\")",
   "id": "b261f3e0e2363462",
   "outputs": [],
   "execution_count": 217
  },
  {
   "metadata": {
    "ExecuteTime": {
     "end_time": "2025-07-11T05:21:06.841808Z",
     "start_time": "2025-07-11T05:21:06.836774Z"
    }
   },
   "cell_type": "code",
   "source": "data_all.head(2)",
   "id": "348fc6ab211b4ac3",
   "outputs": [
    {
     "data": {
      "text/plain": [
       "        text_id                                          full_text\n",
       "0  0000C359D63E  when a person has no experience on a job their...\n",
       "1  000BAD50D026  Do you think students would benefit from being..."
      ],
      "text/html": [
       "<div>\n",
       "<style scoped>\n",
       "    .dataframe tbody tr th:only-of-type {\n",
       "        vertical-align: middle;\n",
       "    }\n",
       "\n",
       "    .dataframe tbody tr th {\n",
       "        vertical-align: top;\n",
       "    }\n",
       "\n",
       "    .dataframe thead th {\n",
       "        text-align: right;\n",
       "    }\n",
       "</style>\n",
       "<table border=\"1\" class=\"dataframe\">\n",
       "  <thead>\n",
       "    <tr style=\"text-align: right;\">\n",
       "      <th></th>\n",
       "      <th>text_id</th>\n",
       "      <th>full_text</th>\n",
       "    </tr>\n",
       "  </thead>\n",
       "  <tbody>\n",
       "    <tr>\n",
       "      <th>0</th>\n",
       "      <td>0000C359D63E</td>\n",
       "      <td>when a person has no experience on a job their...</td>\n",
       "    </tr>\n",
       "    <tr>\n",
       "      <th>1</th>\n",
       "      <td>000BAD50D026</td>\n",
       "      <td>Do you think students would benefit from being...</td>\n",
       "    </tr>\n",
       "  </tbody>\n",
       "</table>\n",
       "</div>"
      ]
     },
     "execution_count": 218,
     "metadata": {},
     "output_type": "execute_result"
    }
   ],
   "execution_count": 218
  },
  {
   "metadata": {
    "ExecuteTime": {
     "end_time": "2025-07-11T05:21:07.779801Z",
     "start_time": "2025-07-11T05:21:07.773365Z"
    }
   },
   "cell_type": "code",
   "source": [
    "data_all_text = data_all[\"full_text\"]\n",
    "data_all_text"
   ],
   "id": "ef41b7df3dce2012",
   "outputs": [
    {
     "data": {
      "text/plain": [
       "0    when a person has no experience on a job their...\n",
       "1    Do you think students would benefit from being...\n",
       "2    Thomas Jefferson once states that \"it is wonde...\n",
       "Name: full_text, dtype: object"
      ]
     },
     "execution_count": 219,
     "metadata": {},
     "output_type": "execute_result"
    }
   ],
   "execution_count": 219
  },
  {
   "metadata": {
    "ExecuteTime": {
     "end_time": "2025-07-11T05:21:08.526996Z",
     "start_time": "2025-07-11T05:21:08.522232Z"
    }
   },
   "cell_type": "code",
   "source": [
    "def del_word_noise(x):\n",
    "    aa = np.char.replace([x],\".\",\" \").tolist()\n",
    "    aa =np.char.replace(aa,\"\\n\",\" \").tolist()\n",
    "    aa =np.char.replace(aa,\",\",\" \").tolist()\n",
    "    return aa\n"
   ],
   "id": "3233e48ced80e64b",
   "outputs": [],
   "execution_count": 220
  },
  {
   "metadata": {
    "ExecuteTime": {
     "end_time": "2025-07-11T05:21:09.095350Z",
     "start_time": "2025-07-11T05:21:09.091571Z"
    }
   },
   "cell_type": "code",
   "source": "data_all[\"qingxi_hou_text\"] = data_all[\"full_text\"].apply(del_word_noise)",
   "id": "fa9f69b6f847724",
   "outputs": [],
   "execution_count": 221
  },
  {
   "metadata": {
    "ExecuteTime": {
     "end_time": "2025-07-11T05:24:28.593161Z",
     "start_time": "2025-07-11T05:24:28.591189Z"
    }
   },
   "cell_type": "code",
   "source": [
    "fencihou = []\n",
    "for i in data_all[\"qingxi_hou_text\"]:\n",
    "    fencihou.append(\" \".join(i).split(\" \"))\n",
    "\n"
   ],
   "id": "c96bf7aab4aab77f",
   "outputs": [],
   "execution_count": 226
  },
  {
   "metadata": {
    "ExecuteTime": {
     "end_time": "2025-07-11T05:32:01.453547Z",
     "start_time": "2025-07-11T05:32:01.452100Z"
    }
   },
   "cell_type": "code",
   "source": [
    "all_words = sum(fencihou, [])##将很多[[1,2],[3,4]]转换为一个list[1,2,3,4]\n",
    "#data = [[[1,2],[3,4]], [[1,2],[3,4]]]#sum(sum(data,[]),[])"
   ],
   "id": "9e221bec1d56c27",
   "outputs": [],
   "execution_count": 237
  },
  {
   "metadata": {
    "ExecuteTime": {
     "end_time": "2025-07-11T07:33:19.068465Z",
     "start_time": "2025-07-11T07:33:19.063962Z"
    }
   },
   "cell_type": "code",
   "source": [
    "def get_itemsss(X):\n",
    "    if isinstance(X, list):\n",
    "        for i,j in enumerate(data):\n",
    "            print(get_itemsss(i),get_itemsss(j))\n"
   ],
   "id": "4f0e10cc5dd231ff",
   "outputs": [],
   "execution_count": 286
  },
  {
   "metadata": {
    "ExecuteTime": {
     "end_time": "2025-07-11T07:30:59.921686Z",
     "start_time": "2025-07-11T07:30:59.918388Z"
    }
   },
   "cell_type": "code",
   "source": [
    "for i,j in enumerate(data):\n",
    "    print(i,j)"
   ],
   "id": "f39a0de178e2178f",
   "outputs": [
    {
     "name": "stdout",
     "output_type": "stream",
     "text": [
      "0 [[1, 2], [3, 4]]\n",
      "1 [[1, 2], [3, 4]]\n"
     ]
    }
   ],
   "execution_count": 280
  },
  {
   "metadata": {
    "ExecuteTime": {
     "end_time": "2025-07-11T05:32:22.314580Z",
     "start_time": "2025-07-11T05:32:22.309575Z"
    }
   },
   "cell_type": "code",
   "source": "diction_list = list(set(all_words))",
   "id": "67810c54d0dfc055",
   "outputs": [],
   "execution_count": 239
  },
  {
   "metadata": {
    "ExecuteTime": {
     "end_time": "2025-07-11T06:28:12.262362Z",
     "start_time": "2025-07-11T06:28:12.237619Z"
    }
   },
   "cell_type": "code",
   "source": "dictionary = enumerate(diction_list)",
   "id": "a982f4ad1d7daed5",
   "outputs": [],
   "execution_count": 271
  },
  {
   "metadata": {
    "ExecuteTime": {
     "end_time": "2025-07-11T05:41:25.464472Z",
     "start_time": "2025-07-11T05:41:25.460121Z"
    }
   },
   "cell_type": "code",
   "source": [
    "fenkai_konnma_list = []\n",
    "for i in data_all[\"qingxi_hou_text\"]:\n",
    "     fenkai_konnma_list.append(i[0].split(\" \"))\n"
   ],
   "id": "ab3b305b5607baa8",
   "outputs": [],
   "execution_count": 258
  },
  {
   "metadata": {
    "ExecuteTime": {
     "end_time": "2025-07-11T06:05:03.541215Z",
     "start_time": "2025-07-11T06:05:03.539108Z"
    }
   },
   "cell_type": "code",
   "source": "data_all[\"split_text\"] = fenkai_konnma_list",
   "id": "3a244138f5ac35b7",
   "outputs": [],
   "execution_count": 261
  },
  {
   "metadata": {
    "ExecuteTime": {
     "end_time": "2025-07-11T06:06:32.984615Z",
     "start_time": "2025-07-11T06:06:32.977423Z"
    }
   },
   "cell_type": "code",
   "source": [
    "def shuzi_transfor(x):\n",
    "    number_sentences = []\n",
    "    for i in x:\n",
    "        for idx, val in enumerate(all_words):##enumerate(without_all)已经创建的字典\n",
    "            if i == val:\n",
    "                number_sentences.append(idx)\n",
    "    return number_sentences"
   ],
   "id": "71a408ea38f7291b",
   "outputs": [],
   "execution_count": 262
  },
  {
   "metadata": {
    "ExecuteTime": {
     "end_time": "2025-07-11T06:06:36.394672Z",
     "start_time": "2025-07-11T06:06:36.313868Z"
    }
   },
   "cell_type": "code",
   "source": "data_all[\"number_shentense\"] = data_all[\"split_text\"].apply(shuzi_transfor)",
   "id": "6c2ace60aff87b63",
   "outputs": [],
   "execution_count": 263
  },
  {
   "metadata": {
    "ExecuteTime": {
     "end_time": "2025-07-11T06:07:53.456095Z",
     "start_time": "2025-07-11T06:07:53.448909Z"
    }
   },
   "cell_type": "code",
   "source": "data_processed = data_all.drop([\"full_text\", \"qingxi_hou_text\"], axis=1)",
   "id": "7d8869f7f69c5263",
   "outputs": [],
   "execution_count": 266
  },
  {
   "metadata": {
    "ExecuteTime": {
     "end_time": "2025-07-11T06:07:57.025062Z",
     "start_time": "2025-07-11T06:07:57.020195Z"
    }
   },
   "cell_type": "code",
   "source": "data_processed",
   "id": "c5e674077cffb8aa",
   "outputs": [
    {
     "data": {
      "text/plain": [
       "        text_id                                         split_text  \\\n",
       "0  0000C359D63E  [when, a, person, has, no, experience, on, a, ...   \n",
       "1  000BAD50D026  [Do, you, think, students, would, benefit, fro...   \n",
       "2  00367BB2546B  [Thomas, Jefferson, once, states, that, \"it, i...   \n",
       "\n",
       "                                    number_shentense  \n",
       "0  [0, 394, 531, 595, 964, 971, 1185, 1299, 1397,...  \n",
       "1  [876, 19, 26, 33, 96, 107, 113, 122, 127, 132,...  \n",
       "2  [1285, 1286, 1287, 1288, 393, 663, 945, 980, 1...  "
      ],
      "text/html": [
       "<div>\n",
       "<style scoped>\n",
       "    .dataframe tbody tr th:only-of-type {\n",
       "        vertical-align: middle;\n",
       "    }\n",
       "\n",
       "    .dataframe tbody tr th {\n",
       "        vertical-align: top;\n",
       "    }\n",
       "\n",
       "    .dataframe thead th {\n",
       "        text-align: right;\n",
       "    }\n",
       "</style>\n",
       "<table border=\"1\" class=\"dataframe\">\n",
       "  <thead>\n",
       "    <tr style=\"text-align: right;\">\n",
       "      <th></th>\n",
       "      <th>text_id</th>\n",
       "      <th>split_text</th>\n",
       "      <th>number_shentense</th>\n",
       "    </tr>\n",
       "  </thead>\n",
       "  <tbody>\n",
       "    <tr>\n",
       "      <th>0</th>\n",
       "      <td>0000C359D63E</td>\n",
       "      <td>[when, a, person, has, no, experience, on, a, ...</td>\n",
       "      <td>[0, 394, 531, 595, 964, 971, 1185, 1299, 1397,...</td>\n",
       "    </tr>\n",
       "    <tr>\n",
       "      <th>1</th>\n",
       "      <td>000BAD50D026</td>\n",
       "      <td>[Do, you, think, students, would, benefit, fro...</td>\n",
       "      <td>[876, 19, 26, 33, 96, 107, 113, 122, 127, 132,...</td>\n",
       "    </tr>\n",
       "    <tr>\n",
       "      <th>2</th>\n",
       "      <td>00367BB2546B</td>\n",
       "      <td>[Thomas, Jefferson, once, states, that, \"it, i...</td>\n",
       "      <td>[1285, 1286, 1287, 1288, 393, 663, 945, 980, 1...</td>\n",
       "    </tr>\n",
       "  </tbody>\n",
       "</table>\n",
       "</div>"
      ]
     },
     "execution_count": 267,
     "metadata": {},
     "output_type": "execute_result"
    }
   ],
   "execution_count": 267
  },
  {
   "metadata": {},
   "cell_type": "code",
   "outputs": [],
   "execution_count": null,
   "source": "",
   "id": "61498fae0e53a36f"
  }
 ],
 "metadata": {
  "kernelspec": {
   "display_name": "Python 3",
   "language": "python",
   "name": "python3"
  },
  "language_info": {
   "codemirror_mode": {
    "name": "ipython",
    "version": 2
   },
   "file_extension": ".py",
   "mimetype": "text/x-python",
   "name": "python",
   "nbconvert_exporter": "python",
   "pygments_lexer": "ipython2",
   "version": "2.7.6"
  }
 },
 "nbformat": 4,
 "nbformat_minor": 5
}

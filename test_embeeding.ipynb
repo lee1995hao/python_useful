{
 "cells": [
  {
   "cell_type": "code",
   "execution_count": 1,
   "id": "initial_id",
   "metadata": {
    "ExecuteTime": {
     "end_time": "2025-07-11T05:21:06.072030Z",
     "start_time": "2025-07-11T05:21:06.069839Z"
    },
    "collapsed": true
   },
   "outputs": [],
   "source": [
    "import numpy as np\n",
    "import pandas as pd\n",
    "from torch.utils.data.datapipes.dataframe.dataframe_wrapper import get_item"
   ]
  },
  {
   "cell_type": "code",
   "execution_count": 217,
   "id": "b261f3e0e2363462",
   "metadata": {
    "ExecuteTime": {
     "end_time": "2025-07-11T05:21:06.421567Z",
     "start_time": "2025-07-11T05:21:06.412421Z"
    }
   },
   "outputs": [],
   "source": [
    "data_all = pd.read_csv(\"/Users/holee/Desktop/test.csv\")"
   ]
  },
  {
   "cell_type": "code",
   "execution_count": 218,
   "id": "348fc6ab211b4ac3",
   "metadata": {
    "ExecuteTime": {
     "end_time": "2025-07-11T05:21:06.841808Z",
     "start_time": "2025-07-11T05:21:06.836774Z"
    }
   },
   "outputs": [
    {
     "data": {
      "text/html": [
       "<div>\n",
       "<style scoped>\n",
       "    .dataframe tbody tr th:only-of-type {\n",
       "        vertical-align: middle;\n",
       "    }\n",
       "\n",
       "    .dataframe tbody tr th {\n",
       "        vertical-align: top;\n",
       "    }\n",
       "\n",
       "    .dataframe thead th {\n",
       "        text-align: right;\n",
       "    }\n",
       "</style>\n",
       "<table border=\"1\" class=\"dataframe\">\n",
       "  <thead>\n",
       "    <tr style=\"text-align: right;\">\n",
       "      <th></th>\n",
       "      <th>text_id</th>\n",
       "      <th>full_text</th>\n",
       "    </tr>\n",
       "  </thead>\n",
       "  <tbody>\n",
       "    <tr>\n",
       "      <th>0</th>\n",
       "      <td>0000C359D63E</td>\n",
       "      <td>when a person has no experience on a job their...</td>\n",
       "    </tr>\n",
       "    <tr>\n",
       "      <th>1</th>\n",
       "      <td>000BAD50D026</td>\n",
       "      <td>Do you think students would benefit from being...</td>\n",
       "    </tr>\n",
       "  </tbody>\n",
       "</table>\n",
       "</div>"
      ],
      "text/plain": [
       "        text_id                                          full_text\n",
       "0  0000C359D63E  when a person has no experience on a job their...\n",
       "1  000BAD50D026  Do you think students would benefit from being..."
      ]
     },
     "execution_count": 218,
     "metadata": {},
     "output_type": "execute_result"
    }
   ],
   "source": [
    "data_all.head(2)"
   ]
  },
  {
   "cell_type": "code",
   "execution_count": 219,
   "id": "ef41b7df3dce2012",
   "metadata": {
    "ExecuteTime": {
     "end_time": "2025-07-11T05:21:07.779801Z",
     "start_time": "2025-07-11T05:21:07.773365Z"
    }
   },
   "outputs": [
    {
     "data": {
      "text/plain": [
       "0    when a person has no experience on a job their...\n",
       "1    Do you think students would benefit from being...\n",
       "2    Thomas Jefferson once states that \"it is wonde...\n",
       "Name: full_text, dtype: object"
      ]
     },
     "execution_count": 219,
     "metadata": {},
     "output_type": "execute_result"
    }
   ],
   "source": [
    "data_all_text = data_all[\"full_text\"]\n",
    "data_all_text"
   ]
  },
  {
   "cell_type": "code",
   "execution_count": 220,
   "id": "3233e48ced80e64b",
   "metadata": {
    "ExecuteTime": {
     "end_time": "2025-07-11T05:21:08.526996Z",
     "start_time": "2025-07-11T05:21:08.522232Z"
    }
   },
   "outputs": [],
   "source": [
    "def del_word_noise(x):\n",
    "    aa = np.char.replace([x],\".\",\" \").tolist()\n",
    "    aa =np.char.replace(aa,\"\\n\",\" \").tolist()\n",
    "    aa =np.char.replace(aa,\",\",\" \").tolist()\n",
    "    return aa\n"
   ]
  },
  {
   "cell_type": "code",
   "execution_count": 221,
   "id": "fa9f69b6f847724",
   "metadata": {
    "ExecuteTime": {
     "end_time": "2025-07-11T05:21:09.095350Z",
     "start_time": "2025-07-11T05:21:09.091571Z"
    }
   },
   "outputs": [],
   "source": [
    "data_all[\"qingxi_hou_text\"] = data_all[\"full_text\"].apply(del_word_noise)"
   ]
  },
  {
   "cell_type": "code",
   "execution_count": 226,
   "id": "c96bf7aab4aab77f",
   "metadata": {
    "ExecuteTime": {
     "end_time": "2025-07-11T05:24:28.593161Z",
     "start_time": "2025-07-11T05:24:28.591189Z"
    }
   },
   "outputs": [],
   "source": [
    "fencihou = []\n",
    "for i in data_all[\"qingxi_hou_text\"]:\n",
    "    fencihou.append(\" \".join(i).split(\" \"))\n",
    "\n"
   ]
  },
  {
   "cell_type": "code",
   "execution_count": 237,
   "id": "9e221bec1d56c27",
   "metadata": {
    "ExecuteTime": {
     "end_time": "2025-07-11T05:32:01.453547Z",
     "start_time": "2025-07-11T05:32:01.452100Z"
    }
   },
   "outputs": [],
   "source": [
    "all_words = sum(fencihou, [])##将很多[[1,2],[3,4]]转换为一个list[1,2,3,4]\n",
    "#data = [[[1,2],[3,4]], [[1,2],[3,4]]]#sum(sum(data,[]),[])"
   ]
  },
  {
   "cell_type": "code",
   "execution_count": 286,
   "id": "4f0e10cc5dd231ff",
   "metadata": {
    "ExecuteTime": {
     "end_time": "2025-07-11T07:33:19.068465Z",
     "start_time": "2025-07-11T07:33:19.063962Z"
    }
   },
   "outputs": [],
   "source": [
    "def get_itemsss(X):\n",
    "    if isinstance(X, list):\n",
    "        for i,j in enumerate(data):\n",
    "            print(get_itemsss(i),get_itemsss(j))\n"
   ]
  },
  {
   "cell_type": "code",
   "execution_count": 280,
   "id": "f39a0de178e2178f",
   "metadata": {
    "ExecuteTime": {
     "end_time": "2025-07-11T07:30:59.921686Z",
     "start_time": "2025-07-11T07:30:59.918388Z"
    }
   },
   "outputs": [
    {
     "name": "stdout",
     "output_type": "stream",
     "text": [
      "0 [[1, 2], [3, 4]]\n",
      "1 [[1, 2], [3, 4]]\n"
     ]
    }
   ],
   "source": [
    "for i,j in enumerate(data):\n",
    "    print(i,j)"
   ]
  },
  {
   "cell_type": "code",
   "execution_count": 239,
   "id": "67810c54d0dfc055",
   "metadata": {
    "ExecuteTime": {
     "end_time": "2025-07-11T05:32:22.314580Z",
     "start_time": "2025-07-11T05:32:22.309575Z"
    }
   },
   "outputs": [],
   "source": [
    "diction_list = list(set(all_words))"
   ]
  },
  {
   "cell_type": "code",
   "execution_count": 271,
   "id": "a982f4ad1d7daed5",
   "metadata": {
    "ExecuteTime": {
     "end_time": "2025-07-11T06:28:12.262362Z",
     "start_time": "2025-07-11T06:28:12.237619Z"
    }
   },
   "outputs": [],
   "source": [
    "dictionary = enumerate(diction_list)"
   ]
  },
  {
   "cell_type": "code",
   "execution_count": 258,
   "id": "ab3b305b5607baa8",
   "metadata": {
    "ExecuteTime": {
     "end_time": "2025-07-11T05:41:25.464472Z",
     "start_time": "2025-07-11T05:41:25.460121Z"
    }
   },
   "outputs": [],
   "source": [
    "fenkai_konnma_list = []\n",
    "for i in data_all[\"qingxi_hou_text\"]:\n",
    "     fenkai_konnma_list.append(i[0].split(\" \"))\n"
   ]
  },
  {
   "cell_type": "code",
   "execution_count": 261,
   "id": "3a244138f5ac35b7",
   "metadata": {
    "ExecuteTime": {
     "end_time": "2025-07-11T06:05:03.541215Z",
     "start_time": "2025-07-11T06:05:03.539108Z"
    }
   },
   "outputs": [],
   "source": [
    "data_all[\"split_text\"] = fenkai_konnma_list"
   ]
  },
  {
   "cell_type": "code",
   "execution_count": 262,
   "id": "71a408ea38f7291b",
   "metadata": {
    "ExecuteTime": {
     "end_time": "2025-07-11T06:06:32.984615Z",
     "start_time": "2025-07-11T06:06:32.977423Z"
    }
   },
   "outputs": [],
   "source": [
    "def shuzi_transfor(x):\n",
    "    number_sentences = []\n",
    "    for i in x:\n",
    "        for idx, val in enumerate(all_words):##enumerate(without_all)已经创建的字典\n",
    "            if i == val:\n",
    "                number_sentences.append(idx)\n",
    "    return number_sentences"
   ]
  },
  {
   "cell_type": "code",
   "execution_count": 263,
   "id": "6c2ace60aff87b63",
   "metadata": {
    "ExecuteTime": {
     "end_time": "2025-07-11T06:06:36.394672Z",
     "start_time": "2025-07-11T06:06:36.313868Z"
    }
   },
   "outputs": [],
   "source": [
    "data_all[\"number_shentense\"] = data_all[\"split_text\"].apply(shuzi_transfor)"
   ]
  },
  {
   "cell_type": "code",
   "execution_count": 266,
   "id": "7d8869f7f69c5263",
   "metadata": {
    "ExecuteTime": {
     "end_time": "2025-07-11T06:07:53.456095Z",
     "start_time": "2025-07-11T06:07:53.448909Z"
    }
   },
   "outputs": [],
   "source": [
    "data_processed = data_all.drop([\"full_text\", \"qingxi_hou_text\"], axis=1)"
   ]
  },
  {
   "cell_type": "code",
   "execution_count": 267,
   "id": "c5e674077cffb8aa",
   "metadata": {
    "ExecuteTime": {
     "end_time": "2025-07-11T06:07:57.025062Z",
     "start_time": "2025-07-11T06:07:57.020195Z"
    }
   },
   "outputs": [
    {
     "data": {
      "text/html": [
       "<div>\n",
       "<style scoped>\n",
       "    .dataframe tbody tr th:only-of-type {\n",
       "        vertical-align: middle;\n",
       "    }\n",
       "\n",
       "    .dataframe tbody tr th {\n",
       "        vertical-align: top;\n",
       "    }\n",
       "\n",
       "    .dataframe thead th {\n",
       "        text-align: right;\n",
       "    }\n",
       "</style>\n",
       "<table border=\"1\" class=\"dataframe\">\n",
       "  <thead>\n",
       "    <tr style=\"text-align: right;\">\n",
       "      <th></th>\n",
       "      <th>text_id</th>\n",
       "      <th>split_text</th>\n",
       "      <th>number_shentense</th>\n",
       "    </tr>\n",
       "  </thead>\n",
       "  <tbody>\n",
       "    <tr>\n",
       "      <th>0</th>\n",
       "      <td>0000C359D63E</td>\n",
       "      <td>[when, a, person, has, no, experience, on, a, ...</td>\n",
       "      <td>[0, 394, 531, 595, 964, 971, 1185, 1299, 1397,...</td>\n",
       "    </tr>\n",
       "    <tr>\n",
       "      <th>1</th>\n",
       "      <td>000BAD50D026</td>\n",
       "      <td>[Do, you, think, students, would, benefit, fro...</td>\n",
       "      <td>[876, 19, 26, 33, 96, 107, 113, 122, 127, 132,...</td>\n",
       "    </tr>\n",
       "    <tr>\n",
       "      <th>2</th>\n",
       "      <td>00367BB2546B</td>\n",
       "      <td>[Thomas, Jefferson, once, states, that, \"it, i...</td>\n",
       "      <td>[1285, 1286, 1287, 1288, 393, 663, 945, 980, 1...</td>\n",
       "    </tr>\n",
       "  </tbody>\n",
       "</table>\n",
       "</div>"
      ],
      "text/plain": [
       "        text_id                                         split_text  \\\n",
       "0  0000C359D63E  [when, a, person, has, no, experience, on, a, ...   \n",
       "1  000BAD50D026  [Do, you, think, students, would, benefit, fro...   \n",
       "2  00367BB2546B  [Thomas, Jefferson, once, states, that, \"it, i...   \n",
       "\n",
       "                                    number_shentense  \n",
       "0  [0, 394, 531, 595, 964, 971, 1185, 1299, 1397,...  \n",
       "1  [876, 19, 26, 33, 96, 107, 113, 122, 127, 132,...  \n",
       "2  [1285, 1286, 1287, 1288, 393, 663, 945, 980, 1...  "
      ]
     },
     "execution_count": 267,
     "metadata": {},
     "output_type": "execute_result"
    }
   ],
   "source": [
    "data_processed"
   ]
  },
  {
   "cell_type": "code",
   "execution_count": null,
   "id": "61498fae0e53a36f",
   "metadata": {},
   "outputs": [],
   "source": [
    "numbers = [4, -1, 0, 7, -5, 9]\n",
    "\n",
    "for num in numbers:\n",
    "    if num <= 0:\n",
    "        # 如果是负数或零，直接跳过，不进行后续处理\n",
    "        continue\n",
    "    if 10 < num <100:\n",
    "            square = num ** 2\n",
    "\n",
    "    \n"
   ]
  }
 ],
 "metadata": {
  "kernelspec": {
   "display_name": "fastai",
   "language": "python",
   "name": "python3"
  },
  "language_info": {
   "codemirror_mode": {
    "name": "ipython",
    "version": 3
   },
   "file_extension": ".py",
   "mimetype": "text/x-python",
   "name": "python",
   "nbconvert_exporter": "python",
   "pygments_lexer": "ipython3",
   "version": "3.12.9"
  }
 },
 "nbformat": 4,
 "nbformat_minor": 5
}

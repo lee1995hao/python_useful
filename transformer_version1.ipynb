{
 "cells": [
  {
   "cell_type": "code",
   "execution_count": 1,
   "id": "b4bf1e1116356749",
   "metadata": {
    "ExecuteTime": {
     "end_time": "2025-07-11T12:50:34.569708Z",
     "start_time": "2025-07-11T12:50:31.409349Z"
    }
   },
   "outputs": [],
   "source": [
    "##import shit\n",
    "import random\n",
    "\n",
    "from fastai import *\n",
    "import matplotlib.pyplot as plt\n",
    "import numpy as np # linear algebra\n",
    "import pandas as pd # data processing, CSV file I/O (e.g. pd.read_csv)\n",
    "import re,string,unicodedata\n",
    "\n",
    "#FastAI\n",
    "import fastai\n",
    "from fastai import *\n",
    "from fastai.text import *\n",
    "import torch\n",
    "#Functional Tool\n",
    "from functools import partial\n",
    "#NLTK\n",
    "import nltk\n",
    "from nltk.tokenize.toktok import ToktokTokenizer\n",
    "\n",
    "#SK Learn libraries\n",
    "from sklearn.model_selection import train_test_split\n",
    "from sklearn.preprocessing import LabelEncoder, OneHotEncoder\n",
    "from sklearn import metrics\n",
    "from fastai.vision.all import *\n",
    "from IPython.display import Image\n",
    "from torch.nn import CrossEntropyLoss"
   ]
  },
  {
   "cell_type": "code",
   "execution_count": 2,
   "id": "initial_id",
   "metadata": {
    "ExecuteTime": {
     "end_time": "2025-07-11T12:50:36.480634Z",
     "start_time": "2025-07-11T12:50:36.348444Z"
    },
    "collapsed": true
   },
   "outputs": [],
   "source": [
    "gendata_V1 = pd.read_csv(\"/Users/holee/Desktop/train.csv\")"
   ]
  },
  {
   "cell_type": "code",
   "execution_count": 3,
   "id": "cfc125fd11b25f63",
   "metadata": {
    "ExecuteTime": {
     "end_time": "2025-07-11T12:50:38.234047Z",
     "start_time": "2025-07-11T12:50:38.131820Z"
    }
   },
   "outputs": [],
   "source": [
    "list_all = []\n",
    "for i in gendata_V1[\"protein_sequence\"]:\n",
    "  list_all.append(\" \".join(i))\n"
   ]
  },
  {
   "cell_type": "code",
   "execution_count": 4,
   "id": "72a44f596f683ded",
   "metadata": {
    "ExecuteTime": {
     "end_time": "2025-07-11T12:50:38.702326Z",
     "start_time": "2025-07-11T12:50:38.695268Z"
    }
   },
   "outputs": [],
   "source": [
    "total_join = \"\".join(list_all)#把 iterable 中的所有字符串元素用空字符串粘"
   ]
  },
  {
   "cell_type": "code",
   "execution_count": 5,
   "id": "ae404b780ca2e781",
   "metadata": {
    "ExecuteTime": {
     "end_time": "2025-07-11T12:50:39.360140Z",
     "start_time": "2025-07-11T12:50:39.158254Z"
    }
   },
   "outputs": [],
   "source": [
    "unique_word = list(set(total_join))\n",
    "aaa = []\n",
    "for i in gendata_V1[\"protein_sequence\"]:\n",
    "     aaa.append(L([*i]))"
   ]
  },
  {
   "cell_type": "code",
   "execution_count": 10,
   "id": "1e9874e0b4c9fa70",
   "metadata": {
    "ExecuteTime": {
     "end_time": "2025-07-11T12:51:16.802916Z",
     "start_time": "2025-07-11T12:51:16.764112Z"
    }
   },
   "outputs": [],
   "source": [
    "gendata_V1[\"fenkai\"] = aaa"
   ]
  },
  {
   "cell_type": "code",
   "execution_count": 11,
   "id": "9db758f8f7f60a2d",
   "metadata": {
    "ExecuteTime": {
     "end_time": "2025-07-11T12:51:22.135095Z",
     "start_time": "2025-07-11T12:51:17.935562Z"
    }
   },
   "outputs": [],
   "source": [
    "def translator(x):\n",
    "    temp_list = []\n",
    "    for i in x:\n",
    "        for j in range(len(unique_word)):\n",
    "            if i == unique_word[j]:\n",
    "                temp_list.append(j)\n",
    "    return L(temp_list)\n",
    "\n",
    "gendata_V1[\"fenkai_mum\"] = gendata_V1[\"fenkai\"].apply(translator)\n"
   ]
  },
  {
   "cell_type": "code",
   "execution_count": 12,
   "id": "2edf0f5ecd4fc21c",
   "metadata": {
    "ExecuteTime": {
     "end_time": "2025-07-11T12:51:23.583418Z",
     "start_time": "2025-07-11T12:51:23.578710Z"
    }
   },
   "outputs": [
    {
     "data": {
      "text/plain": [
       "31390"
      ]
     },
     "execution_count": 12,
     "metadata": {},
     "output_type": "execute_result"
    }
   ],
   "source": [
    "len(gendata_V1[\"fenkai_mum\"])"
   ]
  },
  {
   "cell_type": "code",
   "execution_count": 13,
   "id": "908aa840577596b2",
   "metadata": {
    "ExecuteTime": {
     "end_time": "2025-07-11T12:51:24.755796Z",
     "start_time": "2025-07-11T12:51:24.744682Z"
    }
   },
   "outputs": [
    {
     "data": {
      "text/plain": [
       "0                    [6, 6, 6, 6, 15, 6, 6, 6, 2, 6, 2, 2, 14, 12, 6, 1, 12, 16, 16, 7, 18, 20, 2, 1, 6, 14, 20, 9, 0, 1, 5, 9, 16, 5, 9, 2, 12, 9, 15, 14, 7, 14, 16, 2, 16, 14, 3, 18, 15, 7, 6, 14, 7, 7, 1, 7, 16, 8, 19, 14, 6, 12, 18, 0, 6, 5, 16, 9, 5, 6, 13, 12, 7, 9, 2, 12, 14, 14, 12, 14, 16, 14, 16, 16, 8, 15, 1, 14, 2, 14, 16, 1, 16, 14, 12, 1, 6, 18, 11, 1, ...]\n",
       "1                  [6, 6, 6, 7, 14, 12, 1, 2, 19, 11, 12, 12, 12, 9, 6, 14, 6, 14, 0, 16, 14, 9, 13, 2, 1, 0, 12, 13, 12, 12, 0, 9, 8, 14, 13, 9, 1, 9, 9, 9, 9, 7, 2, 14, 13, 9, 2, 0, 6, 0, 9, 9, 6, 0, 9, 16, 6, 20, 12, 7, 14, 7, 12, 11, 16, 14, 0, 8, 16, 18, 1, 6, 0, 12, 12, 12, 14, 18, 12, 15, 1, 6, 12, 16, 19, 1, 8, 14, 15, 18, 14, 6, 15, 15, 2, 9, 15, 2, 12, 12, ...]\n",
       "2                     [6, 6, 6, 5, 13, 8, 1, 9, 6, 8, 13, 17, 9, 18, 2, 13, 13, 6, 14, 13, 14, 13, 8, 9, 6, 7, 6, 1, 0, 16, 9, 9, 2, 19, 8, 8, 9, 7, 2, 2, 6, 15, 7, 17, 17, 6, 8, 2, 14, 16, 6, 15, 11, 6, 11, 14, 15, 7, 18, 15, 15, 6, 17, 17, 0, 2, 6, 15, 15, 17, 19, 1, 7, 8, 11, 15, 12, 7, 1, 7, 6, 14, 9, 15, 5, 0, 12, 16, 13, 12, 6, 17, 12, 16, 2, 13, 7, 12, 0, 15, ...]\n",
       "3                      [6, 6, 6, 13, 14, 2, 9, 8, 6, 18, 1, 6, 0, 1, 2, 9, 19, 2, 2, 0, 1, 6, 1, 9, 1, 10, 2, 9, 1, 5, 14, 2, 2, 13, 16, 9, 6, 14, 13, 6, 9, 9, 13, 14, 2, 2, 0, 1, 1, 16, 1, 10, 6, 10, 14, 10, 14, 6, 2, 19, 8, 12, 14, 7, 15, 6, 5, 16, 12, 5, 2, 8, 7, 12, 18, 15, 12, 12, 15, 15, 18, 0, 15, 19, 15, 13, 2, 1, 15, 3, 13, 14, 7, 20, 12, 2, 12, 16, 11, 14, ...]\n",
       "4              [6, 6, 6, 8, 15, 13, 14, 1, 9, 9, 0, 13, 0, 14, 6, 13, 16, 9, 8, 5, 8, 1, 5, 17, 5, 2, 16, 12, 1, 16, 7, 8, 2, 13, 16, 9, 14, 13, 13, 16, 18, 2, 11, 10, 13, 6, 17, 13, 12, 1, 13, 1, 11, 18, 12, 20, 15, 15, 7, 14, 8, 5, 2, 11, 2, 12, 13, 7, 7, 9, 9, 0, 2, 2, 1, 7, 14, 13, 2, 5, 18, 13, 11, 16, 16, 19, 13, 15, 19, 11, 15, 1, 7, 12, 14, 5, 17, 0, 10, 16, ...]\n",
       "5               [6, 6, 10, 5, 20, 9, 9, 8, 16, 18, 1, 15, 1, 1, 5, 9, 14, 18, 13, 8, 8, 13, 6, 9, 13, 8, 16, 3, 1, 6, 20, 16, 18, 7, 15, 17, 14, 15, 11, 12, 16, 2, 9, 5, 8, 0, 11, 3, 3, 2, 1, 18, 18, 19, 17, 1, 11, 12, 16, 18, 18, 15, 16, 19, 6, 6, 13, 16, 11, 1, 18, 7, 16, 11, 3, 9, 13, 14, 17, 14, 6, 8, 6, 2, 11, 3, 15, 9, 7, 1, 2, 19, 3, 15, 8, 15, 14, 12, 12, 5, ...]\n",
       "6               [6, 6, 10, 5, 20, 9, 9, 8, 16, 18, 1, 15, 1, 1, 5, 9, 14, 18, 13, 8, 8, 13, 6, 9, 13, 8, 16, 3, 1, 6, 20, 16, 18, 7, 15, 17, 14, 15, 11, 12, 16, 2, 9, 5, 8, 0, 11, 3, 3, 2, 1, 18, 18, 19, 17, 1, 11, 12, 16, 18, 18, 15, 16, 19, 6, 6, 13, 16, 11, 1, 18, 7, 16, 11, 3, 9, 13, 14, 17, 14, 6, 8, 6, 2, 11, 3, 15, 9, 7, 1, 2, 19, 3, 15, 8, 15, 14, 12, 12, 5, ...]\n",
       "7      [6, 6, 12, 11, 9, 1, 1, 18, 1, 14, 13, 2, 14, 3, 2, 17, 7, 13, 8, 2, 10, 16, 14, 10, 0, 6, 10, 16, 8, 15, 10, 0, 7, 18, 11, 5, 1, 12, 9, 11, 1, 0, 14, 12, 0, 8, 20, 13, 11, 11, 7, 15, 2, 13, 1, 17, 8, 11, 11, 18, 18, 0, 16, 20, 8, 13, 14, 8, 14, 16, 11, 15, 7, 0, 12, 12, 11, 14, 17, 6, 17, 18, 15, 15, 0, 10, 3, 19, 10, 16, 7, 1, 11, 10, 16, 13, 16, 10, 1, 16, ...]\n",
       "8             [6, 6, 12, 17, 6, 16, 16, 2, 15, 8, 2, 13, 11, 1, 5, 20, 16, 7, 3, 15, 15, 14, 18, 12, 7, 12, 6, 15, 8, 2, 14, 16, 13, 16, 7, 18, 5, 6, 13, 1, 13, 12, 14, 7, 5, 0, 13, 0, 2, 0, 2, 5, 12, 7, 2, 13, 11, 15, 11, 17, 15, 14, 18, 6, 5, 6, 1, 2, 13, 13, 16, 11, 2, 16, 3, 1, 16, 6, 9, 6, 20, 15, 15, 14, 18, 17, 2, 16, 11, 2, 7, 12, 15, 18, 7, 3, 7, 11, 2, 15, ...]\n",
       "9              [6, 6, 5, 0, 16, 8, 13, 11, 12, 18, 15, 8, 14, 12, 0, 2, 8, 8, 13, 19, 16, 5, 13, 14, 5, 14, 10, 12, 14, 14, 11, 8, 13, 1, 13, 2, 8, 20, 13, 14, 16, 1, 12, 14, 8, 15, 13, 5, 6, 16, 8, 16, 17, 7, 1, 7, 6, 1, 8, 14, 13, 14, 20, 20, 19, 20, 8, 16, 16, 11, 18, 1, 6, 8, 16, 8, 17, 2, 1, 16, 7, 6, 14, 9, 9, 7, 14, 8, 15, 2, 1, 8, 14, 6, 16, 0, 14, 9, 11, 7, ...]\n",
       "10                     [6, 6, 14, 14, 0, 1, 0, 14, 6, 8, 1, 14, 0, 1, 7, 0, 11, 5, 7, 17, 3, 5, 15, 2, 2, 18, 18, 14, 11, 13, 13, 16, 14, 15, 8, 13, 5, 2, 5, 9, 17, 10, 7, 7, 13, 5, 8, 13, 6, 5, 16, 13, 8, 16, 14, 18, 7, 5, 15, 16, 15, 8, 16, 5, 9, 14, 7, 15, 9, 16, 15, 2, 0, 18, 20, 7, 8, 6, 14, 0, 12, 9, 17, 9, 8, 18, 8, 8, 6, 17, 17, 9, 14, 6, 3, 14, 5, 18, 2, 3, ...]\n",
       "11                   [6, 6, 18, 7, 1, 11, 9, 18, 16, 6, 2, 12, 20, 2, 1, 16, 12, 2, 2, 2, 6, 2, 14, 18, 16, 1, 17, 14, 16, 6, 7, 8, 18, 11, 17, 9, 2, 20, 16, 13, 12, 1, 1, 2, 1, 7, 13, 16, 18, 7, 16, 14, 2, 9, 8, 12, 1, 11, 2, 12, 2, 2, 8, 12, 3, 15, 1, 13, 5, 3, 16, 20, 13, 6, 14, 17, 14, 1, 13, 1, 12, 3, 2, 6, 9, 18, 6, 1, 14, 9, 14, 5, 11, 5, 13, 7, 14, 15, 0, 1, ...]\n",
       "12                                                                                                                                                                                       [6, 6, 18, 14, 18, 14, 18, 2, 14, 14, 15, 5, 2, 12, 14, 6, 6, 9, 0, 1, 7, 2, 18, 1, 2, 2, 9, 8, 0, 5, 5, 18, 16, 3, 14, 2, 16, 7, 6, 18, 1, 3, 18, 6, 16, 14, 2, 14, 2, 17, 16, 3, 5, 6, 16]\n",
       "13         [6, 6, 15, 14, 7, 10, 14, 14, 13, 14, 10, 14, 15, 10, 7, 10, 19, 14, 16, 15, 14, 0, 15, 14, 12, 9, 14, 2, 1, 14, 2, 0, 14, 16, 18, 14, 5, 1, 14, 3, 0, 14, 1, 12, 14, 1, 19, 14, 1, 1, 14, 0, 15, 14, 7, 6, 14, 12, 1, 14, 2, 1, 14, 8, 15, 14, 8, 9, 14, 1, 1, 14, 6, 6, 14, 17, 1, 14, 11, 1, 14, 2, 1, 14, 18, 1, 14, 0, 7, 14, 1, 1, 14, 1, 1, 14, 18, 1, 14, 10, ...]\n",
       "14                                                                                        [6, 6, 15, 13, 14, 7, 6, 12, 12, 6, 9, 15, 15, 2, 0, 7, 6, 6, 12, 12, 2, 13, 15, 6, 19, 19, 17, 0, 8, 12, 2, 18, 0, 11, 12, 6, 14, 14, 12, 15, 8, 12, 3, 8, 2, 2, 3, 16, 19, 6, 0, 7, 19, 2, 3, 11, 6, 3, 8, 16, 15, 7, 3, 6, 6, 12, 18, 18, 12, 2, 17, 12, 15, 18, 8, 12, 0, 9, 14, 6, 13]\n",
       "15      [6, 6, 15, 16, 1, 18, 13, 18, 17, 17, 12, 13, 2, 10, 1, 7, 13, 6, 15, 5, 18, 8, 12, 0, 16, 17, 1, 6, 16, 15, 14, 12, 2, 9, 7, 16, 16, 12, 2, 8, 5, 16, 1, 5, 14, 15, 13, 0, 5, 16, 8, 0, 14, 13, 12, 16, 8, 5, 8, 10, 19, 19, 14, 1, 11, 12, 10, 17, 14, 11, 15, 16, 19, 6, 10, 6, 18, 12, 19, 18, 0, 6, 11, 13, 17, 0, 16, 12, 17, 8, 9, 12, 13, 2, 8, 3, 7, 5, 18, 11, ...]\n",
       "16                             [6, 6, 2, 6, 2, 14, 2, 1, 6, 5, 20, 8, 6, 2, 6, 16, 14, 2, 16, 2, 14, 6, 2, 6, 15, 13, 2, 1, 2, 5, 2, 13, 12, 6, 6, 12, 9, 14, 2, 14, 2, 2, 14, 14, 14, 2, 2, 14, 2, 5, 2, 6, 6, 6, 18, 20, 8, 14, 5, 1, 13, 12, 1, 6, 1, 13, 14, 14, 18, 9, 17, 1, 13, 2, 9, 2, 1, 8, 1, 18, 17, 0, 14, 16, 6, 0, 13, 1, 5, 6, 9, 9, 16, 5, 6, 20, 6, 20, 14, 8, ...]\n",
       "17               [6, 6, 2, 6, 11, 13, 7, 18, 13, 16, 6, 2, 18, 12, 1, 11, 8, 6, 0, 0, 1, 1, 2, 14, 15, 16, 13, 10, 11, 12, 5, 7, 8, 9, 16, 13, 6, 18, 8, 6, 0, 13, 12, 6, 2, 2, 8, 0, 2, 14, 16, 20, 6, 2, 18, 1, 6, 6, 19, 15, 13, 1, 17, 0, 14, 3, 8, 16, 20, 7, 6, 7, 14, 8, 14, 12, 16, 11, 5, 11, 6, 11, 12, 2, 19, 16, 1, 10, 2, 14, 8, 18, 16, 12, 11, 9, 12, 18, 16, 20, ...]\n",
       "18              [6, 6, 2, 1, 0, 7, 12, 15, 2, 18, 8, 14, 0, 2, 7, 11, 14, 2, 9, 17, 3, 18, 17, 1, 19, 6, 19, 1, 15, 7, 0, 16, 11, 2, 20, 2, 0, 18, 19, 8, 14, 13, 2, 0, 12, 12, 7, 11, 12, 2, 14, 16, 6, 19, 5, 16, 12, 19, 3, 3, 5, 11, 14, 8, 15, 8, 20, 1, 14, 11, 15, 16, 18, 12, 8, 5, 12, 13, 3, 14, 2, 9, 5, 14, 9, 7, 16, 11, 6, 17, 8, 13, 17, 7, 12, 8, 16, 17, 0, 16, ...]\n",
       "19                    [6, 6, 2, 8, 15, 12, 11, 1, 2, 0, 18, 16, 14, 8, 18, 11, 6, 11, 19, 6, 2, 2, 6, 0, 9, 6, 14, 17, 0, 6, 18, 17, 2, 13, 14, 14, 14, 16, 6, 6, 14, 13, 2, 14, 2, 1, 7, 2, 14, 18, 13, 8, 2, 7, 7, 16, 2, 8, 7, 18, 9, 9, 18, 8, 7, 16, 10, 13, 2, 1, 2, 2, 16, 7, 6, 7, 18, 14, 5, 14, 13, 13, 6, 5, 11, 16, 6, 9, 8, 16, 15, 13, 3, 18, 15, 6, 14, 6, 6, 14, ...]\n",
       "20              [6, 6, 3, 11, 1, 12, 17, 7, 17, 2, 5, 15, 2, 2, 2, 18, 14, 7, 13, 14, 16, 14, 15, 13, 10, 2, 2, 2, 9, 5, 6, 7, 7, 8, 17, 8, 12, 13, 17, 18, 13, 8, 18, 14, 16, 7, 5, 15, 18, 9, 8, 18, 12, 2, 7, 14, 15, 8, 18, 15, 2, 0, 18, 20, 7, 8, 6, 14, 0, 12, 9, 5, 9, 8, 18, 8, 13, 13, 17, 17, 9, 14, 6, 19, 14, 18, 18, 16, 16, 17, 7, 18, 8, 7, 0, 12, 8, 5, 11, 11, ...]\n",
       "21    [6, 6, 3, 8, 12, 1, 15, 13, 16, 10, 16, 13, 16, 7, 12, 16, 16, 13, 13, 11, 16, 7, 12, 16, 12, 8, 7, 2, 2, 11, 14, 19, 2, 15, 15, 16, 7, 11, 11, 5, 8, 12, 6, 0, 9, 5, 13, 13, 2, 1, 9, 9, 6, 6, 16, 11, 18, 12, 5, 15, 7, 2, 13, 17, 13, 16, 1, 12, 14, 1, 20, 20, 15, 15, 15, 14, 17, 15, 8, 2, 2, 15, 14, 18, 13, 14, 15, 5, 11, 13, 14, 12, 2, 16, 6, 18, 3, 14, 1, 13, ...]\n",
       "22              [6, 6, 11, 19, 1, 11, 0, 7, 6, 8, 3, 2, 13, 14, 2, 11, 14, 14, 17, 10, 16, 6, 16, 10, 7, 14, 2, 14, 13, 9, 15, 2, 13, 19, 12, 14, 13, 2, 2, 6, 8, 9, 2, 16, 9, 13, 16, 2, 8, 11, 9, 7, 13, 9, 7, 8, 17, 2, 6, 10, 0, 13, 18, 0, 15, 15, 20, 2, 15, 13, 5, 13, 14, 1, 19, 9, 12, 17, 12, 8, 8, 10, 2, 20, 6, 16, 16, 7, 15, 7, 14, 19, 6, 13, 6, 6, 0, 16, 14, 7, ...]\n",
       "23                       [6, 6, 11, 13, 6, 6, 16, 3, 12, 2, 2, 5, 8, 11, 9, 16, 5, 2, 18, 14, 2, 18, 18, 6, 0, 2, 6, 2, 16, 18, 16, 2, 13, 6, 3, 18, 0, 15, 2, 13, 6, 14, 16, 8, 8, 3, 2, 5, 3, 2, 17, 13, 6, 2, 8, 14, 2, 8, 2, 13, 13, 18, 5, 18, 16, 17, 8, 6, 6, 13, 18, 6, 13, 8, 5, 16, 16, 8, 6, 14, 3, 5, 14, 6, 3, 13, 2, 17, 14, 17, 8, 8, 15, 9, 7, 2, 13, 14, 5, 14, ...]\n",
       "24                     [6, 6, 1, 7, 6, 1, 8, 5, 7, 13, 2, 1, 6, 14, 18, 7, 1, 8, 6, 15, 18, 14, 1, 1, 14, 8, 7, 7, 15, 6, 2, 16, 15, 16, 14, 12, 16, 6, 12, 13, 18, 2, 7, 15, 2, 14, 5, 13, 8, 9, 7, 12, 15, 7, 18, 9, 9, 6, 1, 16, 1, 13, 13, 5, 5, 14, 13, 7, 7, 16, 11, 0, 16, 18, 12, 12, 6, 11, 6, 11, 9, 16, 7, 2, 0, 14, 18, 8, 13, 14, 0, 18, 1, 14, 2, 6, 1, 18, 1, 16, ...]\n",
       "25                     [6, 6, 1, 7, 12, 18, 8, 8, 6, 20, 1, 16, 11, 16, 14, 1, 2, 11, 1, 19, 2, 17, 8, 1, 11, 0, 3, 5, 6, 0, 13, 3, 16, 17, 12, 1, 2, 16, 15, 17, 0, 6, 7, 14, 13, 16, 18, 1, 20, 2, 6, 15, 13, 20, 8, 19, 13, 12, 7, 14, 15, 8, 20, 8, 5, 8, 2, 9, 7, 7, 16, 15, 5, 13, 11, 14, 12, 1, 5, 7, 6, 12, 6, 6, 6, 12, 11, 5, 9, 6, 16, 2, 7, 11, 9, 0, 9, 19, 6, 20, ...]\n",
       "26                  [6, 6, 1, 8, 2, 3, 12, 12, 2, 11, 18, 13, 8, 0, 0, 17, 13, 17, 18, 18, 6, 6, 17, 13, 6, 6, 17, 8, 16, 3, 0, 1, 16, 6, 14, 17, 16, 2, 7, 16, 2, 14, 8, 15, 18, 14, 17, 6, 3, 5, 6, 16, 2, 20, 6, 16, 5, 10, 14, 6, 8, 6, 2, 6, 14, 13, 20, 14, 14, 2, 6, 16, 6, 9, 14, 6, 16, 14, 6, 6, 12, 6, 6, 3, 18, 1, 6, 14, 2, 15, 6, 13, 13, 12, 20, 5, 1, 6, 15, 12, ...]\n",
       "27                   [6, 6, 9, 11, 6, 14, 8, 6, 9, 1, 14, 14, 1, 11, 9, 8, 10, 0, 5, 15, 2, 16, 2, 2, 14, 12, 13, 6, 16, 14, 15, 13, 13, 2, 16, 2, 9, 5, 16, 15, 14, 0, 5, 19, 12, 17, 0, 12, 13, 8, 18, 14, 6, 6, 5, 2, 8, 0, 8, 16, 10, 2, 7, 7, 6, 8, 18, 15, 5, 12, 18, 20, 7, 8, 6, 14, 0, 12, 9, 17, 19, 13, 2, 6, 1, 3, 17, 17, 9, 14, 6, 0, 6, 6, 18, 16, 16, 17, 7, 18, ...]\n",
       "28                          [6, 6, 9, 9, 5, 13, 14, 1, 9, 11, 0, 9, 0, 0, 14, 14, 14, 7, 1, 14, 2, 3, 19, 14, 15, 8, 16, 2, 18, 8, 14, 6, 11, 13, 14, 2, 14, 9, 6, 8, 6, 6, 12, 2, 2, 9, 2, 14, 6, 9, 16, 18, 3, 14, 10, 9, 7, 9, 6, 9, 6, 12, 12, 6, 6, 14, 0, 2, 9, 0, 12, 2, 10, 0, 6, 14, 14, 6, 14, 1, 7, 14, 8, 7, 14, 0, 2, 16, 16, 15, 12, 2, 7, 2, 6, 13, 2, 9, 13, 16, ...]\n",
       "29      [6, 6, 13, 13, 1, 12, 6, 7, 5, 16, 15, 15, 8, 18, 13, 13, 19, 15, 18, 16, 18, 5, 13, 15, 13, 17, 10, 1, 17, 10, 15, 15, 6, 15, 13, 16, 5, 9, 12, 2, 7, 0, 16, 1, 17, 16, 16, 12, 2, 7, 12, 9, 12, 7, 14, 20, 13, 18, 0, 8, 6, 2, 14, 12, 18, 16, 14, 9, 9, 8, 16, 1, 0, 16, 5, 18, 11, 14, 15, 19, 2, 14, 14, 13, 7, 7, 8, 16, 7, 6, 17, 12, 13, 14, 12, 2, 6, 15, 2, 2, ...]\n",
       "Name: fenkai_mum, dtype: object"
      ]
     },
     "execution_count": 13,
     "metadata": {},
     "output_type": "execute_result"
    }
   ],
   "source": [
    "new_data = gendata_V1[\"fenkai_mum\"].iloc[0:30]\n",
    "new_data"
   ]
  },
  {
   "cell_type": "code",
   "execution_count": 16,
   "id": "c132017a0d3638b3",
   "metadata": {
    "ExecuteTime": {
     "end_time": "2025-07-11T12:51:48.645858Z",
     "start_time": "2025-07-11T12:51:48.640364Z"
    }
   },
   "outputs": [],
   "source": [
    "idx = np.array(list((set(range(len(new_data))))))\n",
    "np.random.shuffle(idx)\n",
    "train_idx = idx[:int(len(new_data)*0.8)].tolist()\n",
    "test_idx = idx[int(len(new_data)*0.8):].tolist()"
   ]
  },
  {
   "cell_type": "code",
   "execution_count": 18,
   "id": "c79b271e0035dfe2",
   "metadata": {
    "ExecuteTime": {
     "end_time": "2025-07-11T12:52:03.049439Z",
     "start_time": "2025-07-11T12:52:03.044754Z"
    }
   },
   "outputs": [],
   "source": [
    "split = [train_idx,test_idx]"
   ]
  },
  {
   "cell_type": "code",
   "execution_count": 19,
   "id": "853ebdc57c2b03d7",
   "metadata": {
    "ExecuteTime": {
     "end_time": "2025-07-11T12:52:04.558287Z",
     "start_time": "2025-07-11T12:52:04.556147Z"
    }
   },
   "outputs": [],
   "source": [
    "import random\n",
    "from torch import tensor\n",
    "from torch.utils.data import Dataset"
   ]
  },
  {
   "cell_type": "code",
   "execution_count": 20,
   "id": "75078e3b0e27ff9",
   "metadata": {
    "ExecuteTime": {
     "end_time": "2025-07-11T12:52:06.773623Z",
     "start_time": "2025-07-11T12:52:06.766738Z"
    }
   },
   "outputs": [],
   "source": [
    "class data_add(nn.Module):##创建class只传入init里面变量data_add(dataset=gendata_V1,split=split,is_test=False)\n",
    "    def __init__(self,dataset,split,long_sentence = 10,is_test = False):\n",
    "        self.is_test = is_test\n",
    "        self.dataset = dataset\n",
    "        self.split = split\n",
    "        self.long_sentence = long_sentence\n",
    "\n",
    "    def __len__(self):\n",
    "        if not self.is_test:\n",
    "            return len(self.split[0])\n",
    "        else:\n",
    "            return len(self.split[1])\n",
    "\n",
    "    def __getitem__(self, idx):\n",
    "        if not self.is_test:\n",
    "            idx_pool = self.split[0]\n",
    "        else:\n",
    "            idx_pool = self.split[1]\n",
    "\n",
    "        df_idx = idx_pool[idx]  # 这里取正确索引\n",
    "        full_sentence = self.dataset[\"fenkai_mum\"].iloc[df_idx]\n",
    "\n",
    "        if len(full_sentence) <= self.long_sentence + 1:\n",
    "            templist = (self.long_sentence + 1)*[1000]\n",
    "            templist[:self.long_sentence] = full_sentence\n",
    "            x = templist[0:self.long_sentence]\n",
    "            y = templist[1:self.long_sentence+1]\n",
    "        else:\n",
    "            x = full_sentence[0:self.long_sentence]\n",
    "            y = full_sentence[1:self.long_sentence+1]\n",
    "\n",
    "        new_y = 10 * [100]  # padding value 100 as in original\n",
    "        # Copy y elements into new_y (truncate or pad)\n",
    "        new_y[:len(y)] = y[:10]\n",
    "        return tensor(x), tensor(new_y)\n",
    "\n",
    "\n",
    "\n",
    "\n",
    "data_train_1 = data_add(dataset=gendata_V1,split=split,is_test=False)\n",
    "data_test_1 = data_add(dataset=gendata_V1,split=split,is_test=True)\n",
    "\n",
    "\n",
    "\n",
    "dl_train = DataLoader(data_train_1,batch_size=10)\n",
    "dl_test = DataLoader(data_test_1,batch_size=10)\n",
    "dls = DataLoaders(dl_train,dl_test)"
   ]
  },
  {
   "cell_type": "code",
   "execution_count": 21,
   "id": "3ae18898bb0df130",
   "metadata": {
    "ExecuteTime": {
     "end_time": "2025-07-11T12:52:10.418634Z",
     "start_time": "2025-07-11T12:52:10.392763Z"
    }
   },
   "outputs": [
    {
     "data": {
      "text/plain": [
       "(tensor([[ 6,  6, 12, 11,  9,  1,  1, 18,  1, 14],\n",
       "         [ 6,  6, 15, 13, 14,  7,  6, 12, 12,  6],\n",
       "         [ 6,  6,  6, 13, 14,  2,  9,  8,  6, 18],\n",
       "         [ 6,  6,  2,  6, 11, 13,  7, 18, 13, 16],\n",
       "         [ 6,  6,  3,  8, 12,  1, 15, 13, 16, 10],\n",
       "         [ 6,  6,  1,  7, 12, 18,  8,  8,  6, 20],\n",
       "         [ 6,  6,  9,  9,  5, 13, 14,  1,  9, 11],\n",
       "         [ 6,  6,  1,  7,  6,  1,  8,  5,  7, 13],\n",
       "         [ 6,  6, 11, 19,  1, 11,  0,  7,  6,  8],\n",
       "         [ 6,  6, 10,  5, 20,  9,  9,  8, 16, 18]]),\n",
       " tensor([[ 6, 12, 11,  9,  1,  1, 18,  1, 14, 13],\n",
       "         [ 6, 15, 13, 14,  7,  6, 12, 12,  6,  9],\n",
       "         [ 6,  6, 13, 14,  2,  9,  8,  6, 18,  1],\n",
       "         [ 6,  2,  6, 11, 13,  7, 18, 13, 16,  6],\n",
       "         [ 6,  3,  8, 12,  1, 15, 13, 16, 10, 16],\n",
       "         [ 6,  1,  7, 12, 18,  8,  8,  6, 20,  1],\n",
       "         [ 6,  9,  9,  5, 13, 14,  1,  9, 11,  0],\n",
       "         [ 6,  1,  7,  6,  1,  8,  5,  7, 13,  2],\n",
       "         [ 6, 11, 19,  1, 11,  0,  7,  6,  8,  3],\n",
       "         [ 6, 10,  5, 20,  9,  9,  8, 16, 18,  1]]))"
      ]
     },
     "execution_count": 21,
     "metadata": {},
     "output_type": "execute_result"
    }
   ],
   "source": [
    "dls.one_batch()"
   ]
  },
  {
   "cell_type": "code",
   "execution_count": null,
   "id": "e1adaf62",
   "metadata": {},
   "outputs": [],
   "source": [
    "# model in PyTorch\n",
    "# class LMModel1(Module):\n",
    "#     def __init__(self, vocab_sz, n_hidden):\n",
    "#         self.i_h = nn.Embedding(vocab_sz, n_hidden)  \n",
    "#         self.h_h = nn.Linear(n_hidden, n_hidden)     \n",
    "#         self.h_o = nn.Linear(n_hidden,vocab_sz)\n",
    "        \n",
    "#     def forward(self, x):\n",
    "#         h = F.relu(self.h_h(self.i_h(x[:,0])))\n",
    "#         h = h + self.i_h(x[:,1])\n",
    "#         h = F.relu(self.h_h(h))\n",
    "#         h = h + self.i_h(x[:,2])\n",
    "#         h = F.relu(self.h_h(h))\n",
    "#         return self.h_o(h)\n",
    "    \n",
    "# learn = Learner(dls, LMModel1(len(vocab), 64), loss_func=F.cross_entropy, metrics=accuracy)\n",
    "# learn.fit_one_cycle(4, 1e-3)"
   ]
  },
  {
   "cell_type": "code",
   "execution_count": 22,
   "id": "c6c32049ca4eb37b",
   "metadata": {
    "ExecuteTime": {
     "end_time": "2025-07-11T12:52:22.689851Z",
     "start_time": "2025-07-11T12:52:20.073255Z"
    }
   },
   "outputs": [],
   "source": [
    "from transformers import GPT2LMHeadModel, GPT2TokenizerFast, GPT2Tokenizer\n",
    "tokenizer = GPT2Tokenizer.from_pretrained(\"gpt2\")\n",
    "model = GPT2LMHeadModel.from_pretrained(\"gpt2\")"
   ]
  },
  {
   "cell_type": "code",
   "execution_count": 23,
   "id": "3d5f2d6580282f5e",
   "metadata": {
    "ExecuteTime": {
     "end_time": "2025-07-11T12:52:23.176788Z",
     "start_time": "2025-07-11T12:52:23.174999Z"
    }
   },
   "outputs": [],
   "source": [
    "class DropOutput(Callback):\n",
    "    def after_pred(self): self.learn.pred = self. pred[0]"
   ]
  },
  {
   "cell_type": "code",
   "execution_count": 24,
   "id": "a08f10bbb3c5b880",
   "metadata": {
    "ExecuteTime": {
     "end_time": "2025-07-11T12:52:23.933170Z",
     "start_time": "2025-07-11T12:52:23.930198Z"
    }
   },
   "outputs": [],
   "source": [
    "learn = Learner(dls,model,loss_func=CrossEntropyLossFlat(),cbs=[DropOutput], metrics=Perplexity())"
   ]
  },
  {
   "cell_type": "code",
   "execution_count": null,
   "id": "23efa08c8e195db5",
   "metadata": {
    "ExecuteTime": {
     "end_time": "2025-07-11T12:52:41.469576Z",
     "start_time": "2025-07-11T12:52:24.978512Z"
    }
   },
   "outputs": [
    {
     "data": {
      "text/html": [
       "<table border=\"1\" class=\"dataframe\">\n",
       "  <thead>\n",
       "    <tr style=\"text-align: left;\">\n",
       "      <th>epoch</th>\n",
       "      <th>train_loss</th>\n",
       "      <th>valid_loss</th>\n",
       "      <th>perplexity</th>\n",
       "      <th>time</th>\n",
       "    </tr>\n",
       "  </thead>\n",
       "  <tbody>\n",
       "    <tr>\n",
       "      <td>0</td>\n",
       "      <td>4.575524</td>\n",
       "      <td>8.941432</td>\n",
       "      <td>7642.132812</td>\n",
       "      <td>00:16</td>\n",
       "    </tr>\n",
       "  </tbody>\n",
       "</table>"
      ],
      "text/plain": [
       "<IPython.core.display.HTML object>"
      ]
     },
     "metadata": {},
     "output_type": "display_data"
    }
   ],
   "source": [
    "#learn = learn.to_fp16() if your divice is support cuda you can use it \n",
    "learn.fit(1)"
   ]
  },
  {
   "cell_type": "markdown",
   "id": "c653ec0998d42a73",
   "metadata": {},
   "source": [
    "## save the trained model"
   ]
  },
  {
   "cell_type": "code",
   "execution_count": 26,
   "id": "d1bdb2a9d5f31625",
   "metadata": {
    "ExecuteTime": {
     "end_time": "2025-07-11T12:52:51.113037Z",
     "start_time": "2025-07-11T12:52:43.511279Z"
    }
   },
   "outputs": [],
   "source": [
    "torch.save(learn, 'full_model.pth')\n",
    "loaded_learn = torch.load('full_model.pth')"
   ]
  },
  {
   "cell_type": "code",
   "execution_count": 27,
   "id": "80b35e096da797e",
   "metadata": {
    "ExecuteTime": {
     "end_time": "2025-07-11T12:52:53.890526Z",
     "start_time": "2025-07-11T12:52:52.718007Z"
    }
   },
   "outputs": [
    {
     "data": {
      "text/plain": [
       "tensor([[6, 6, 6, 6, 6, 6, 6, 6, 6]])"
      ]
     },
     "execution_count": 27,
     "metadata": {},
     "output_type": "execute_result"
    }
   ],
   "source": [
    "loaded_learn.model.eval()\n",
    "x = tensor([16, 16,  4, 14,  0, 15,  1,  5, 13])\n",
    "x = x.unsqueeze(0)\n",
    "outputs = loaded_learn.model(x)\n",
    "logits = outputs[0]\n",
    "predicted_token_ids = logits.argmax(dim=-1)\n",
    "predicted_token_ids"
   ]
  },
  {
   "cell_type": "code",
   "execution_count": null,
   "id": "ad681a69e5bfc56e",
   "metadata": {},
   "outputs": [],
   "source": []
  }
 ],
 "metadata": {
  "kernelspec": {
   "display_name": "Python 3",
   "language": "python",
   "name": "python3"
  },
  "language_info": {
   "codemirror_mode": {
    "name": "ipython",
    "version": 2
   },
   "file_extension": ".py",
   "mimetype": "text/x-python",
   "name": "python",
   "nbconvert_exporter": "python",
   "pygments_lexer": "ipython2",
   "version": "2.7.6"
  }
 },
 "nbformat": 4,
 "nbformat_minor": 5
}
